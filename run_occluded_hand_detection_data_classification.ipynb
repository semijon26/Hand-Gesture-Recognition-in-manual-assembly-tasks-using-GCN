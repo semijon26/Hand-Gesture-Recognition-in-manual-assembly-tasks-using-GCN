{
 "cells": [
  {
   "cell_type": "code",
   "execution_count": 1,
   "id": "initial_id",
   "metadata": {
    "collapsed": true,
    "ExecuteTime": {
     "end_time": "2024-01-10T10:47:51.904425100Z",
     "start_time": "2024-01-10T10:47:47.414740900Z"
    }
   },
   "outputs": [],
   "source": [
    "import torch\n",
    "import torch.nn as nn\n",
    "import torch.nn.functional as F\n",
    "import torch.optim as optim\n",
    "from torch.utils.data import Dataset, DataLoader, random_split\n",
    "import numpy as np\n",
    "import pandas as pd \n",
    "import os\n",
    "import time\n",
    "from torch.utils.tensorboard import SummaryWriter\n",
    "from sklearn.metrics import f1_score, accuracy_score\n",
    "from sklearn.metrics import classification_report\n",
    "from sklearn.utils import class_weight\n",
    "from sklearn.metrics import confusion_matrix, ConfusionMatrixDisplay\n",
    "import matplotlib.pyplot as plt\n",
    "\n",
    "from model import lstm, aagcn, stconv, SAM\n",
    "from data.handpose_dataset import HandPoseDatasetNumpy, df_to_numpy\n",
    "from data.get_data_from_csv import get_train_data, get_val_data\n",
    "from config import CFG\n",
    "from utils import training_supervision, adj_mat"
   ]
  },
  {
   "cell_type": "code",
   "execution_count": 2,
   "outputs": [],
   "source": [
    "device = torch.device(\"cuda\")"
   ],
   "metadata": {
    "collapsed": false,
    "ExecuteTime": {
     "end_time": "2024-01-10T10:47:51.918426800Z",
     "start_time": "2024-01-10T10:47:51.905424600Z"
    }
   },
   "id": "13b5b431ed140e1d"
  },
  {
   "cell_type": "code",
   "execution_count": 15,
   "outputs": [
    {
     "data": {
      "text/plain": "                WRIST           THUMB_CMC           THUMB_MCP  \\\n0  (0.49, 0.93, 0.23)  (0.46, 0.92, 0.23)  (0.41, 0.93, 0.23)   \n1  (0.49, 0.93, 0.23)  (0.46, 0.92, 0.23)  (0.41, 0.93, 0.23)   \n2  (0.49, 0.93, 0.23)  (0.46, 0.92, 0.23)  (0.41, 0.93, 0.23)   \n3  (0.49, 0.92, 0.23)  (0.46, 0.92, 0.23)  (0.41, 0.93, 0.23)   \n4  (0.49, 0.92, 0.24)  (0.46, 0.92, 0.23)  (0.41, 0.93, 0.23)   \n\n             THUMB_IP           THUMB_TIP    INDEX_FINGER_MCP  \\\n0  (0.38, 0.94, 0.23)  (0.36, 0.94, 0.23)  (0.40, 0.95, 0.27)   \n1  (0.38, 0.94, 0.23)  (0.36, 0.94, 0.23)  (0.40, 0.95, 0.27)   \n2  (0.38, 0.94, 0.23)  (0.36, 0.94, 0.23)  (0.40, 0.95, 0.27)   \n3  (0.38, 0.93, 0.23)  (0.36, 0.93, 0.23)  (0.40, 0.95, 0.27)   \n4  (0.38, 0.93, 0.23)  (0.36, 0.93, 0.23)  (0.40, 0.94, 0.28)   \n\n     INDEX_FINGER_PIP    INDEX_FINGER_DIP    INDEX_FINGER_TIP  \\\n0  (0.38, 0.96, 0.30)  (0.37, 0.97, 0.31)  (0.35, 0.97, 0.32)   \n1  (0.38, 0.96, 0.30)  (0.37, 0.96, 0.31)  (0.35, 0.97, 0.32)   \n2  (0.38, 0.96, 0.30)  (0.37, 0.97, 0.31)  (0.35, 0.97, 0.32)   \n3  (0.38, 0.96, 0.30)  (0.37, 0.96, 0.31)  (0.35, 0.96, 0.33)   \n4  (0.38, 0.95, 0.30)  (0.37, 0.96, 0.32)  (0.35, 0.96, 0.33)   \n\n    MIDDLE_FINGER_MCP  ...   MIDDLE_FINGER_TIP     RING_FINGER_MCP  \\\n0  (0.42, 0.95, 0.29)  ...  (0.37, 0.96, 0.35)  (0.43, 0.95, 0.30)   \n1  (0.42, 0.95, 0.29)  ...  (0.37, 0.96, 0.35)  (0.43, 0.95, 0.30)   \n2  (0.42, 0.95, 0.29)  ...  (0.37, 0.96, 0.35)  (0.43, 0.95, 0.30)   \n3  (0.42, 0.95, 0.29)  ...  (0.37, 0.96, 0.35)  (0.43, 0.94, 0.30)   \n4  (0.42, 0.94, 0.29)  ...  (0.37, 0.95, 0.36)  (0.43, 0.94, 0.30)   \n\n      RING_FINGER_PIP     RING_FINGER_DIP     RING_FINGER_TIP  \\\n0  (0.41, 0.95, 0.33)  (0.40, 0.96, 0.34)  (0.39, 0.96, 0.36)   \n1  (0.41, 0.95, 0.33)  (0.40, 0.96, 0.34)  (0.39, 0.96, 0.36)   \n2  (0.41, 0.95, 0.33)  (0.40, 0.96, 0.34)  (0.39, 0.96, 0.36)   \n3  (0.41, 0.95, 0.33)  (0.40, 0.95, 0.35)  (0.39, 0.95, 0.36)   \n4  (0.41, 0.94, 0.33)  (0.40, 0.94, 0.35)  (0.39, 0.94, 0.36)   \n\n            PINKY_MCP           PINKY_PIP           PINKY_DIP  \\\n0  (0.45, 0.94, 0.31)  (0.44, 0.94, 0.33)  (0.43, 0.94, 0.34)   \n1  (0.45, 0.94, 0.31)  (0.44, 0.94, 0.33)  (0.43, 0.94, 0.34)   \n2  (0.45, 0.94, 0.31)  (0.44, 0.94, 0.33)  (0.43, 0.94, 0.34)   \n3  (0.45, 0.93, 0.31)  (0.44, 0.94, 0.33)  (0.43, 0.93, 0.34)   \n4  (0.45, 0.93, 0.31)  (0.44, 0.93, 0.33)  (0.43, 0.93, 0.35)   \n\n            PINKY_TIP  LABEL  \n0  (0.42, 0.94, 0.35)  Grasp  \n1  (0.42, 0.94, 0.35)  Grasp  \n2  (0.42, 0.94, 0.35)  Grasp  \n3  (0.42, 0.93, 0.35)  Grasp  \n4  (0.42, 0.92, 0.35)  Grasp  \n\n[5 rows x 22 columns]",
      "text/html": "<div>\n<style scoped>\n    .dataframe tbody tr th:only-of-type {\n        vertical-align: middle;\n    }\n\n    .dataframe tbody tr th {\n        vertical-align: top;\n    }\n\n    .dataframe thead th {\n        text-align: right;\n    }\n</style>\n<table border=\"1\" class=\"dataframe\">\n  <thead>\n    <tr style=\"text-align: right;\">\n      <th></th>\n      <th>WRIST</th>\n      <th>THUMB_CMC</th>\n      <th>THUMB_MCP</th>\n      <th>THUMB_IP</th>\n      <th>THUMB_TIP</th>\n      <th>INDEX_FINGER_MCP</th>\n      <th>INDEX_FINGER_PIP</th>\n      <th>INDEX_FINGER_DIP</th>\n      <th>INDEX_FINGER_TIP</th>\n      <th>MIDDLE_FINGER_MCP</th>\n      <th>...</th>\n      <th>MIDDLE_FINGER_TIP</th>\n      <th>RING_FINGER_MCP</th>\n      <th>RING_FINGER_PIP</th>\n      <th>RING_FINGER_DIP</th>\n      <th>RING_FINGER_TIP</th>\n      <th>PINKY_MCP</th>\n      <th>PINKY_PIP</th>\n      <th>PINKY_DIP</th>\n      <th>PINKY_TIP</th>\n      <th>LABEL</th>\n    </tr>\n  </thead>\n  <tbody>\n    <tr>\n      <th>0</th>\n      <td>(0.49, 0.93, 0.23)</td>\n      <td>(0.46, 0.92, 0.23)</td>\n      <td>(0.41, 0.93, 0.23)</td>\n      <td>(0.38, 0.94, 0.23)</td>\n      <td>(0.36, 0.94, 0.23)</td>\n      <td>(0.40, 0.95, 0.27)</td>\n      <td>(0.38, 0.96, 0.30)</td>\n      <td>(0.37, 0.97, 0.31)</td>\n      <td>(0.35, 0.97, 0.32)</td>\n      <td>(0.42, 0.95, 0.29)</td>\n      <td>...</td>\n      <td>(0.37, 0.96, 0.35)</td>\n      <td>(0.43, 0.95, 0.30)</td>\n      <td>(0.41, 0.95, 0.33)</td>\n      <td>(0.40, 0.96, 0.34)</td>\n      <td>(0.39, 0.96, 0.36)</td>\n      <td>(0.45, 0.94, 0.31)</td>\n      <td>(0.44, 0.94, 0.33)</td>\n      <td>(0.43, 0.94, 0.34)</td>\n      <td>(0.42, 0.94, 0.35)</td>\n      <td>Grasp</td>\n    </tr>\n    <tr>\n      <th>1</th>\n      <td>(0.49, 0.93, 0.23)</td>\n      <td>(0.46, 0.92, 0.23)</td>\n      <td>(0.41, 0.93, 0.23)</td>\n      <td>(0.38, 0.94, 0.23)</td>\n      <td>(0.36, 0.94, 0.23)</td>\n      <td>(0.40, 0.95, 0.27)</td>\n      <td>(0.38, 0.96, 0.30)</td>\n      <td>(0.37, 0.96, 0.31)</td>\n      <td>(0.35, 0.97, 0.32)</td>\n      <td>(0.42, 0.95, 0.29)</td>\n      <td>...</td>\n      <td>(0.37, 0.96, 0.35)</td>\n      <td>(0.43, 0.95, 0.30)</td>\n      <td>(0.41, 0.95, 0.33)</td>\n      <td>(0.40, 0.96, 0.34)</td>\n      <td>(0.39, 0.96, 0.36)</td>\n      <td>(0.45, 0.94, 0.31)</td>\n      <td>(0.44, 0.94, 0.33)</td>\n      <td>(0.43, 0.94, 0.34)</td>\n      <td>(0.42, 0.94, 0.35)</td>\n      <td>Grasp</td>\n    </tr>\n    <tr>\n      <th>2</th>\n      <td>(0.49, 0.93, 0.23)</td>\n      <td>(0.46, 0.92, 0.23)</td>\n      <td>(0.41, 0.93, 0.23)</td>\n      <td>(0.38, 0.94, 0.23)</td>\n      <td>(0.36, 0.94, 0.23)</td>\n      <td>(0.40, 0.95, 0.27)</td>\n      <td>(0.38, 0.96, 0.30)</td>\n      <td>(0.37, 0.97, 0.31)</td>\n      <td>(0.35, 0.97, 0.32)</td>\n      <td>(0.42, 0.95, 0.29)</td>\n      <td>...</td>\n      <td>(0.37, 0.96, 0.35)</td>\n      <td>(0.43, 0.95, 0.30)</td>\n      <td>(0.41, 0.95, 0.33)</td>\n      <td>(0.40, 0.96, 0.34)</td>\n      <td>(0.39, 0.96, 0.36)</td>\n      <td>(0.45, 0.94, 0.31)</td>\n      <td>(0.44, 0.94, 0.33)</td>\n      <td>(0.43, 0.94, 0.34)</td>\n      <td>(0.42, 0.94, 0.35)</td>\n      <td>Grasp</td>\n    </tr>\n    <tr>\n      <th>3</th>\n      <td>(0.49, 0.92, 0.23)</td>\n      <td>(0.46, 0.92, 0.23)</td>\n      <td>(0.41, 0.93, 0.23)</td>\n      <td>(0.38, 0.93, 0.23)</td>\n      <td>(0.36, 0.93, 0.23)</td>\n      <td>(0.40, 0.95, 0.27)</td>\n      <td>(0.38, 0.96, 0.30)</td>\n      <td>(0.37, 0.96, 0.31)</td>\n      <td>(0.35, 0.96, 0.33)</td>\n      <td>(0.42, 0.95, 0.29)</td>\n      <td>...</td>\n      <td>(0.37, 0.96, 0.35)</td>\n      <td>(0.43, 0.94, 0.30)</td>\n      <td>(0.41, 0.95, 0.33)</td>\n      <td>(0.40, 0.95, 0.35)</td>\n      <td>(0.39, 0.95, 0.36)</td>\n      <td>(0.45, 0.93, 0.31)</td>\n      <td>(0.44, 0.94, 0.33)</td>\n      <td>(0.43, 0.93, 0.34)</td>\n      <td>(0.42, 0.93, 0.35)</td>\n      <td>Grasp</td>\n    </tr>\n    <tr>\n      <th>4</th>\n      <td>(0.49, 0.92, 0.24)</td>\n      <td>(0.46, 0.92, 0.23)</td>\n      <td>(0.41, 0.93, 0.23)</td>\n      <td>(0.38, 0.93, 0.23)</td>\n      <td>(0.36, 0.93, 0.23)</td>\n      <td>(0.40, 0.94, 0.28)</td>\n      <td>(0.38, 0.95, 0.30)</td>\n      <td>(0.37, 0.96, 0.32)</td>\n      <td>(0.35, 0.96, 0.33)</td>\n      <td>(0.42, 0.94, 0.29)</td>\n      <td>...</td>\n      <td>(0.37, 0.95, 0.36)</td>\n      <td>(0.43, 0.94, 0.30)</td>\n      <td>(0.41, 0.94, 0.33)</td>\n      <td>(0.40, 0.94, 0.35)</td>\n      <td>(0.39, 0.94, 0.36)</td>\n      <td>(0.45, 0.93, 0.31)</td>\n      <td>(0.44, 0.93, 0.33)</td>\n      <td>(0.43, 0.93, 0.35)</td>\n      <td>(0.42, 0.92, 0.35)</td>\n      <td>Grasp</td>\n    </tr>\n  </tbody>\n</table>\n<p>5 rows × 22 columns</p>\n</div>"
     },
     "execution_count": 15,
     "metadata": {},
     "output_type": "execute_result"
    }
   ],
   "source": [
    "df = pd.read_csv(\"data/graphdata/custom_data/test_all_gestures.csv\")\n",
    "df = df.drop(\"Unnamed: 0\", axis=1)\n",
    "df.head()"
   ],
   "metadata": {
    "collapsed": false,
    "ExecuteTime": {
     "end_time": "2024-01-10T11:04:58.342003900Z",
     "start_time": "2024-01-10T11:04:58.299994100Z"
    }
   },
   "id": "5dc86d72e48adc2c"
  },
  {
   "cell_type": "code",
   "execution_count": 16,
   "outputs": [
    {
     "data": {
      "text/plain": "(array([[0.49, 0.93, 0.23, ..., 0.42, 0.94, 0.35],\n        [0.49, 0.93, 0.23, ..., 0.42, 0.94, 0.35],\n        [0.49, 0.93, 0.23, ..., 0.42, 0.94, 0.35],\n        ...,\n        [0.47, 1.12, 0.28, ..., 0.41, 1.14, 0.39],\n        [0.47, 1.12, 0.28, ..., 0.41, 1.14, 0.39],\n        [0.47, 1.12, 0.28, ..., 0.41, 1.14, 0.39]]),\n array([[1, 0, 0, 0, 0, 0],\n        [1, 0, 0, 0, 0, 0],\n        [1, 0, 0, 0, 0, 0],\n        ...,\n        [0, 0, 0, 0, 0, 1],\n        [0, 0, 0, 0, 0, 1],\n        [0, 0, 0, 0, 0, 1]]))"
     },
     "execution_count": 16,
     "metadata": {},
     "output_type": "execute_result"
    }
   ],
   "source": [
    "data_numpy = df_to_numpy(df)\n",
    "data_numpy"
   ],
   "metadata": {
    "collapsed": false,
    "ExecuteTime": {
     "end_time": "2024-01-10T11:04:59.888501600Z",
     "start_time": "2024-01-10T11:04:59.820978200Z"
    }
   },
   "id": "fb706685cd099b17"
  },
  {
   "cell_type": "code",
   "execution_count": 17,
   "outputs": [
    {
     "name": "stdout",
     "output_type": "stream",
     "text": [
      "[INFO] TESTING ON 192 DATAPOINTS\n"
     ]
    }
   ],
   "source": [
    "test_set_2 = HandPoseDatasetNumpy(data_numpy, distances=True)\n",
    "test_loader_2 = DataLoader(test_set_2, batch_size=CFG.batch_size, drop_last=True)\n",
    "graph = aagcn.Graph(adj_mat.num_node, adj_mat.self_link, adj_mat.inward, adj_mat.outward, adj_mat.neighbor)\n",
    "model_2 = aagcn.Model(num_class=CFG.num_classes, num_point=21, num_person=1, graph=graph, drop_out=0.5, in_channels=3)\n",
    "print(f\"[INFO] TESTING ON {len(test_set_2)} DATAPOINTS\")"
   ],
   "metadata": {
    "collapsed": false,
    "ExecuteTime": {
     "end_time": "2024-01-10T11:05:00.336415300Z",
     "start_time": "2024-01-10T11:05:00.277403200Z"
    }
   },
   "id": "4a4df190e95bacf7"
  },
  {
   "cell_type": "code",
   "execution_count": 18,
   "outputs": [],
   "source": [
    "class FocalLoss(nn.Module):\n",
    "    \n",
    "    def __init__(self, weight=None, \n",
    "                 gamma=2., reduction='mean'):\n",
    "        nn.Module.__init__(self)\n",
    "        self.weight = weight\n",
    "        self.gamma = gamma\n",
    "        self.reduction = reduction\n",
    "        \n",
    "    def forward(self, input_tensor, target_tensor):\n",
    "        log_prob = F.log_softmax(input_tensor, dim=-1)\n",
    "        prob = torch.exp(log_prob)\n",
    "        return F.nll_loss(\n",
    "            ((1 - prob) ** self.gamma) * log_prob, \n",
    "            target_tensor, \n",
    "            weight=self.weight,\n",
    "            reduction = self.reduction\n",
    "        )"
   ],
   "metadata": {
    "collapsed": false,
    "ExecuteTime": {
     "end_time": "2024-01-10T11:05:00.450767900Z",
     "start_time": "2024-01-10T11:05:00.429760700Z"
    }
   },
   "id": "c1bd5dc3b9da4ebd"
  },
  {
   "cell_type": "code",
   "execution_count": 19,
   "outputs": [],
   "source": [
    "def eval_func(model, criterion, data_loader, epoch):\n",
    "    model.eval()\n",
    "    preds = []\n",
    "    groundtruth = []\n",
    "    t0 = time.time()\n",
    "    loss_total = 0\n",
    "    global_step = 0\n",
    "    iters = len(data_loader)\n",
    "    with torch.no_grad():\n",
    "        for i, (inputs, labels) in enumerate(data_loader):\n",
    "            labels = labels.cuda().long()\n",
    "            inputs = inputs.cuda().float()\n",
    "\n",
    "            last_label = labels[:, -1, :]\n",
    "            last_label = torch.argmax(last_label, 1)\n",
    "\n",
    "            last_out = model(inputs)\n",
    "            loss = criterion(last_out, last_label)\n",
    "\n",
    "            preds.append(last_out.cpu().detach().numpy())\n",
    "            groundtruth.append(last_label.cpu().detach().numpy())\n",
    "            loss_total += loss\n",
    "\n",
    "            if i%CFG.print_freq == 1 or i == iters-1:\n",
    "                t1 = time.time()\n",
    "                print(f\"[EVAL] Iteration: {i}/{iters} | Val-Loss: {loss_total/i} | ETA: {((t1-t0)/i * iters) - (t1-t0)}s\")\n",
    "\n",
    "    return loss_total, np.array(preds),  np.array(groundtruth).flatten()"
   ],
   "metadata": {
    "collapsed": false,
    "ExecuteTime": {
     "end_time": "2024-01-10T11:05:00.573761600Z",
     "start_time": "2024-01-10T11:05:00.561250900Z"
    }
   },
   "id": "63fa15a32217baac"
  },
  {
   "cell_type": "code",
   "execution_count": 20,
   "outputs": [],
   "source": [
    "MODEL_PATH_2 = \"trained_models/7_AAGCN_Focal_seqlen32_release_SAM_joints1_joints2_oridist/f10.8142688679245284_valloss310.2437744140625_epoch13.pth\"\n"
   ],
   "metadata": {
    "collapsed": false,
    "ExecuteTime": {
     "end_time": "2024-01-10T11:05:00.712301300Z",
     "start_time": "2024-01-10T11:05:00.689296100Z"
    }
   },
   "id": "dd19df308ef59f70"
  },
  {
   "cell_type": "code",
   "execution_count": 21,
   "outputs": [],
   "source": [
    "model_2.load_state_dict(torch.load(MODEL_PATH_2)[\"model_state_dict\"])\n",
    "model_2.cuda()\n",
    "\n",
    "criterion = FocalLoss()"
   ],
   "metadata": {
    "collapsed": false,
    "ExecuteTime": {
     "end_time": "2024-01-10T11:05:01.075416200Z",
     "start_time": "2024-01-10T11:05:00.825835200Z"
    }
   },
   "id": "e99ef6d824e079a7"
  },
  {
   "cell_type": "code",
   "execution_count": 22,
   "outputs": [
    {
     "name": "stdout",
     "output_type": "stream",
     "text": [
      "[EVAL] Iteration: 1/12 | Val-Loss: 3.5996451377868652 | ETA: 2.7948360443115234s\n",
      "[EVAL] Iteration: 11/12 | Val-Loss: 2.3618175983428955 | ETA: 0.05342555046081543s\n",
      "[EVAL] VALIDATION LOSS MODEL 2 25.97999382019043\n",
      "              precision    recall  f1-score   support\n",
      "\n",
      "       Grasp     0.0000    0.0000    0.0000         1\n",
      "        Move     0.0000    0.0000    0.0000        32\n",
      "    Negative     0.2022    0.5625    0.2975        32\n",
      "    Position     0.3409    0.4688    0.3947        32\n",
      "       Reach     0.7143    0.3125    0.4348        32\n",
      "     Release     0.0000    0.0000    0.0000        63\n",
      "\n",
      "    accuracy                         0.2240       192\n",
      "   macro avg     0.2096    0.2240    0.1878       192\n",
      "weighted avg     0.2096    0.2240    0.1878       192\n"
     ]
    },
    {
     "name": "stderr",
     "output_type": "stream",
     "text": [
      "C:\\Users\\smujan\\PycharmProjects\\Hand-Gesture-Recognition-in-manual-assembly-tasks-using-GCN\\venv\\lib\\site-packages\\sklearn\\metrics\\_classification.py:1471: UndefinedMetricWarning: Precision and F-score are ill-defined and being set to 0.0 in labels with no predicted samples. Use `zero_division` parameter to control this behavior.\n",
      "  _warn_prf(average, modifier, msg_start, len(result))\n",
      "C:\\Users\\smujan\\PycharmProjects\\Hand-Gesture-Recognition-in-manual-assembly-tasks-using-GCN\\venv\\lib\\site-packages\\sklearn\\metrics\\_classification.py:1471: UndefinedMetricWarning: Precision and F-score are ill-defined and being set to 0.0 in labels with no predicted samples. Use `zero_division` parameter to control this behavior.\n",
      "  _warn_prf(average, modifier, msg_start, len(result))\n",
      "C:\\Users\\smujan\\PycharmProjects\\Hand-Gesture-Recognition-in-manual-assembly-tasks-using-GCN\\venv\\lib\\site-packages\\sklearn\\metrics\\_classification.py:1471: UndefinedMetricWarning: Precision and F-score are ill-defined and being set to 0.0 in labels with no predicted samples. Use `zero_division` parameter to control this behavior.\n",
      "  _warn_prf(average, modifier, msg_start, len(result))\n"
     ]
    }
   ],
   "source": [
    "val_loss_2, preds_val_2, gt_val_2 = eval_func(model_2, criterion, test_loader_2, 0)\n",
    "print(f\"[EVAL] VALIDATION LOSS MODEL 2 {val_loss_2}\")\n",
    "print(classification_report(gt_val_2, np.argmax(preds_val_2, axis=2).flatten(), target_names=CFG.classes, digits=4))\n"
   ],
   "metadata": {
    "collapsed": false,
    "ExecuteTime": {
     "end_time": "2024-01-10T11:05:01.685190700Z",
     "start_time": "2024-01-10T11:05:01.075416200Z"
    }
   },
   "id": "4ab1fc908b0ab2"
  },
  {
   "cell_type": "code",
   "execution_count": 22,
   "outputs": [],
   "source": [],
   "metadata": {
    "collapsed": false,
    "ExecuteTime": {
     "end_time": "2024-01-10T11:05:01.731200600Z",
     "start_time": "2024-01-10T11:05:01.687192800Z"
    }
   },
   "id": "8ec23ee780dfcacc"
  },
  {
   "cell_type": "code",
   "execution_count": null,
   "outputs": [],
   "source": [],
   "metadata": {
    "collapsed": false
   },
   "id": "c7fe2e34095a5cae"
  }
 ],
 "metadata": {
  "kernelspec": {
   "display_name": "Python 3",
   "language": "python",
   "name": "python3"
  },
  "language_info": {
   "codemirror_mode": {
    "name": "ipython",
    "version": 2
   },
   "file_extension": ".py",
   "mimetype": "text/x-python",
   "name": "python",
   "nbconvert_exporter": "python",
   "pygments_lexer": "ipython2",
   "version": "2.7.6"
  }
 },
 "nbformat": 4,
 "nbformat_minor": 5
}
