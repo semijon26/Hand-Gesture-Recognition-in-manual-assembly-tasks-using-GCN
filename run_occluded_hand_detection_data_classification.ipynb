{
 "cells": [
  {
   "cell_type": "code",
   "execution_count": 31,
   "id": "initial_id",
   "metadata": {
    "collapsed": true,
    "ExecuteTime": {
     "end_time": "2024-01-10T11:50:37.029159500Z",
     "start_time": "2024-01-10T11:50:37.021158800Z"
    }
   },
   "outputs": [],
   "source": [
    "import torch\n",
    "import torch.nn as nn\n",
    "import torch.nn.functional as F\n",
    "import torch.optim as optim\n",
    "from torch.utils.data import Dataset, DataLoader, random_split\n",
    "import numpy as np\n",
    "import pandas as pd \n",
    "import os\n",
    "import time\n",
    "from torch.utils.tensorboard import SummaryWriter\n",
    "from sklearn.metrics import f1_score, accuracy_score\n",
    "from sklearn.metrics import classification_report\n",
    "from sklearn.utils import class_weight\n",
    "from sklearn.metrics import confusion_matrix, ConfusionMatrixDisplay\n",
    "import matplotlib.pyplot as plt\n",
    "\n",
    "from model import lstm, aagcn, stconv, SAM\n",
    "from data.handpose_dataset import HandPoseDatasetNumpy, df_to_numpy\n",
    "from data.get_data_from_csv import get_train_data, get_val_data\n",
    "from config import CFG\n",
    "from utils import training_supervision, adj_mat"
   ]
  },
  {
   "cell_type": "code",
   "execution_count": 32,
   "outputs": [],
   "source": [
    "device = torch.device(\"cuda\")"
   ],
   "metadata": {
    "collapsed": false,
    "ExecuteTime": {
     "end_time": "2024-01-10T11:50:37.527506Z",
     "start_time": "2024-01-10T11:50:37.513502400Z"
    }
   },
   "id": "13b5b431ed140e1d"
  },
  {
   "cell_type": "code",
   "execution_count": 41,
   "outputs": [
    {
     "data": {
      "text/plain": "                WRIST           THUMB_CMC           THUMB_MCP  \\\n0  (0.53, 1.23, 0.14)  (0.50, 1.23, 0.13)  (0.46, 1.21, 0.15)   \n1  (0.53, 1.24, 0.14)  (0.50, 1.23, 0.14)  (0.46, 1.21, 0.15)   \n2  (0.53, 1.23, 0.14)  (0.50, 1.23, 0.14)  (0.46, 1.21, 0.15)   \n3  (0.53, 1.23, 0.14)  (0.50, 1.23, 0.13)  (0.46, 1.21, 0.15)   \n4  (0.53, 1.23, 0.14)  (0.50, 1.23, 0.14)  (0.46, 1.21, 0.15)   \n\n             THUMB_IP           THUMB_TIP    INDEX_FINGER_MCP  \\\n0  (0.44, 1.20, 0.17)  (0.43, 1.19, 0.18)  (0.45, 1.24, 0.19)   \n1  (0.44, 1.20, 0.17)  (0.43, 1.19, 0.18)  (0.45, 1.24, 0.19)   \n2  (0.44, 1.20, 0.17)  (0.43, 1.19, 0.18)  (0.45, 1.24, 0.19)   \n3  (0.44, 1.20, 0.17)  (0.43, 1.19, 0.18)  (0.45, 1.24, 0.19)   \n4  (0.44, 1.20, 0.17)  (0.43, 1.19, 0.18)  (0.45, 1.24, 0.19)   \n\n     INDEX_FINGER_PIP    INDEX_FINGER_DIP    INDEX_FINGER_TIP  \\\n0  (0.43, 1.23, 0.21)  (0.41, 1.22, 0.23)  (0.40, 1.22, 0.24)   \n1  (0.43, 1.23, 0.21)  (0.41, 1.22, 0.23)  (0.40, 1.22, 0.24)   \n2  (0.43, 1.23, 0.21)  (0.41, 1.22, 0.23)  (0.40, 1.22, 0.24)   \n3  (0.43, 1.23, 0.21)  (0.41, 1.22, 0.23)  (0.40, 1.22, 0.24)   \n4  (0.43, 1.23, 0.21)  (0.41, 1.22, 0.23)  (0.40, 1.22, 0.24)   \n\n    MIDDLE_FINGER_MCP  ...   MIDDLE_FINGER_TIP     RING_FINGER_MCP  \\\n0  (0.46, 1.24, 0.20)  ...  (0.42, 1.21, 0.27)  (0.48, 1.23, 0.21)   \n1  (0.46, 1.24, 0.20)  ...  (0.42, 1.21, 0.27)  (0.48, 1.23, 0.21)   \n2  (0.46, 1.24, 0.20)  ...  (0.42, 1.21, 0.27)  (0.48, 1.23, 0.21)   \n3  (0.46, 1.24, 0.20)  ...  (0.42, 1.21, 0.27)  (0.48, 1.23, 0.21)   \n4  (0.46, 1.24, 0.20)  ...  (0.42, 1.21, 0.27)  (0.48, 1.23, 0.21)   \n\n      RING_FINGER_PIP     RING_FINGER_DIP     RING_FINGER_TIP  \\\n0  (0.46, 1.22, 0.24)  (0.46, 1.22, 0.26)  (0.45, 1.21, 0.27)   \n1  (0.46, 1.22, 0.24)  (0.46, 1.22, 0.26)  (0.45, 1.21, 0.27)   \n2  (0.47, 1.22, 0.24)  (0.46, 1.22, 0.26)  (0.45, 1.21, 0.27)   \n3  (0.47, 1.22, 0.24)  (0.46, 1.22, 0.26)  (0.45, 1.21, 0.27)   \n4  (0.46, 1.22, 0.24)  (0.46, 1.22, 0.26)  (0.45, 1.21, 0.27)   \n\n            PINKY_MCP           PINKY_PIP           PINKY_DIP  \\\n0  (0.50, 1.23, 0.21)  (0.49, 1.22, 0.23)  (0.48, 1.21, 0.25)   \n1  (0.50, 1.23, 0.21)  (0.49, 1.22, 0.23)  (0.48, 1.21, 0.25)   \n2  (0.50, 1.23, 0.21)  (0.49, 1.22, 0.23)  (0.48, 1.21, 0.25)   \n3  (0.50, 1.23, 0.21)  (0.49, 1.22, 0.23)  (0.48, 1.21, 0.25)   \n4  (0.50, 1.23, 0.21)  (0.49, 1.22, 0.23)  (0.48, 1.21, 0.25)   \n\n            PINKY_TIP  LABEL  \n0  (0.48, 1.20, 0.25)  Grasp  \n1  (0.48, 1.20, 0.25)  Grasp  \n2  (0.48, 1.20, 0.25)  Grasp  \n3  (0.48, 1.20, 0.25)  Grasp  \n4  (0.48, 1.20, 0.25)  Grasp  \n\n[5 rows x 22 columns]",
      "text/html": "<div>\n<style scoped>\n    .dataframe tbody tr th:only-of-type {\n        vertical-align: middle;\n    }\n\n    .dataframe tbody tr th {\n        vertical-align: top;\n    }\n\n    .dataframe thead th {\n        text-align: right;\n    }\n</style>\n<table border=\"1\" class=\"dataframe\">\n  <thead>\n    <tr style=\"text-align: right;\">\n      <th></th>\n      <th>WRIST</th>\n      <th>THUMB_CMC</th>\n      <th>THUMB_MCP</th>\n      <th>THUMB_IP</th>\n      <th>THUMB_TIP</th>\n      <th>INDEX_FINGER_MCP</th>\n      <th>INDEX_FINGER_PIP</th>\n      <th>INDEX_FINGER_DIP</th>\n      <th>INDEX_FINGER_TIP</th>\n      <th>MIDDLE_FINGER_MCP</th>\n      <th>...</th>\n      <th>MIDDLE_FINGER_TIP</th>\n      <th>RING_FINGER_MCP</th>\n      <th>RING_FINGER_PIP</th>\n      <th>RING_FINGER_DIP</th>\n      <th>RING_FINGER_TIP</th>\n      <th>PINKY_MCP</th>\n      <th>PINKY_PIP</th>\n      <th>PINKY_DIP</th>\n      <th>PINKY_TIP</th>\n      <th>LABEL</th>\n    </tr>\n  </thead>\n  <tbody>\n    <tr>\n      <th>0</th>\n      <td>(0.53, 1.23, 0.14)</td>\n      <td>(0.50, 1.23, 0.13)</td>\n      <td>(0.46, 1.21, 0.15)</td>\n      <td>(0.44, 1.20, 0.17)</td>\n      <td>(0.43, 1.19, 0.18)</td>\n      <td>(0.45, 1.24, 0.19)</td>\n      <td>(0.43, 1.23, 0.21)</td>\n      <td>(0.41, 1.22, 0.23)</td>\n      <td>(0.40, 1.22, 0.24)</td>\n      <td>(0.46, 1.24, 0.20)</td>\n      <td>...</td>\n      <td>(0.42, 1.21, 0.27)</td>\n      <td>(0.48, 1.23, 0.21)</td>\n      <td>(0.46, 1.22, 0.24)</td>\n      <td>(0.46, 1.22, 0.26)</td>\n      <td>(0.45, 1.21, 0.27)</td>\n      <td>(0.50, 1.23, 0.21)</td>\n      <td>(0.49, 1.22, 0.23)</td>\n      <td>(0.48, 1.21, 0.25)</td>\n      <td>(0.48, 1.20, 0.25)</td>\n      <td>Grasp</td>\n    </tr>\n    <tr>\n      <th>1</th>\n      <td>(0.53, 1.24, 0.14)</td>\n      <td>(0.50, 1.23, 0.14)</td>\n      <td>(0.46, 1.21, 0.15)</td>\n      <td>(0.44, 1.20, 0.17)</td>\n      <td>(0.43, 1.19, 0.18)</td>\n      <td>(0.45, 1.24, 0.19)</td>\n      <td>(0.43, 1.23, 0.21)</td>\n      <td>(0.41, 1.22, 0.23)</td>\n      <td>(0.40, 1.22, 0.24)</td>\n      <td>(0.46, 1.24, 0.20)</td>\n      <td>...</td>\n      <td>(0.42, 1.21, 0.27)</td>\n      <td>(0.48, 1.23, 0.21)</td>\n      <td>(0.46, 1.22, 0.24)</td>\n      <td>(0.46, 1.22, 0.26)</td>\n      <td>(0.45, 1.21, 0.27)</td>\n      <td>(0.50, 1.23, 0.21)</td>\n      <td>(0.49, 1.22, 0.23)</td>\n      <td>(0.48, 1.21, 0.25)</td>\n      <td>(0.48, 1.20, 0.25)</td>\n      <td>Grasp</td>\n    </tr>\n    <tr>\n      <th>2</th>\n      <td>(0.53, 1.23, 0.14)</td>\n      <td>(0.50, 1.23, 0.14)</td>\n      <td>(0.46, 1.21, 0.15)</td>\n      <td>(0.44, 1.20, 0.17)</td>\n      <td>(0.43, 1.19, 0.18)</td>\n      <td>(0.45, 1.24, 0.19)</td>\n      <td>(0.43, 1.23, 0.21)</td>\n      <td>(0.41, 1.22, 0.23)</td>\n      <td>(0.40, 1.22, 0.24)</td>\n      <td>(0.46, 1.24, 0.20)</td>\n      <td>...</td>\n      <td>(0.42, 1.21, 0.27)</td>\n      <td>(0.48, 1.23, 0.21)</td>\n      <td>(0.47, 1.22, 0.24)</td>\n      <td>(0.46, 1.22, 0.26)</td>\n      <td>(0.45, 1.21, 0.27)</td>\n      <td>(0.50, 1.23, 0.21)</td>\n      <td>(0.49, 1.22, 0.23)</td>\n      <td>(0.48, 1.21, 0.25)</td>\n      <td>(0.48, 1.20, 0.25)</td>\n      <td>Grasp</td>\n    </tr>\n    <tr>\n      <th>3</th>\n      <td>(0.53, 1.23, 0.14)</td>\n      <td>(0.50, 1.23, 0.13)</td>\n      <td>(0.46, 1.21, 0.15)</td>\n      <td>(0.44, 1.20, 0.17)</td>\n      <td>(0.43, 1.19, 0.18)</td>\n      <td>(0.45, 1.24, 0.19)</td>\n      <td>(0.43, 1.23, 0.21)</td>\n      <td>(0.41, 1.22, 0.23)</td>\n      <td>(0.40, 1.22, 0.24)</td>\n      <td>(0.46, 1.24, 0.20)</td>\n      <td>...</td>\n      <td>(0.42, 1.21, 0.27)</td>\n      <td>(0.48, 1.23, 0.21)</td>\n      <td>(0.47, 1.22, 0.24)</td>\n      <td>(0.46, 1.22, 0.26)</td>\n      <td>(0.45, 1.21, 0.27)</td>\n      <td>(0.50, 1.23, 0.21)</td>\n      <td>(0.49, 1.22, 0.23)</td>\n      <td>(0.48, 1.21, 0.25)</td>\n      <td>(0.48, 1.20, 0.25)</td>\n      <td>Grasp</td>\n    </tr>\n    <tr>\n      <th>4</th>\n      <td>(0.53, 1.23, 0.14)</td>\n      <td>(0.50, 1.23, 0.14)</td>\n      <td>(0.46, 1.21, 0.15)</td>\n      <td>(0.44, 1.20, 0.17)</td>\n      <td>(0.43, 1.19, 0.18)</td>\n      <td>(0.45, 1.24, 0.19)</td>\n      <td>(0.43, 1.23, 0.21)</td>\n      <td>(0.41, 1.22, 0.23)</td>\n      <td>(0.40, 1.22, 0.24)</td>\n      <td>(0.46, 1.24, 0.20)</td>\n      <td>...</td>\n      <td>(0.42, 1.21, 0.27)</td>\n      <td>(0.48, 1.23, 0.21)</td>\n      <td>(0.46, 1.22, 0.24)</td>\n      <td>(0.46, 1.22, 0.26)</td>\n      <td>(0.45, 1.21, 0.27)</td>\n      <td>(0.50, 1.23, 0.21)</td>\n      <td>(0.49, 1.22, 0.23)</td>\n      <td>(0.48, 1.21, 0.25)</td>\n      <td>(0.48, 1.20, 0.25)</td>\n      <td>Grasp</td>\n    </tr>\n  </tbody>\n</table>\n<p>5 rows × 22 columns</p>\n</div>"
     },
     "execution_count": 41,
     "metadata": {},
     "output_type": "execute_result"
    }
   ],
   "source": [
    "df = pd.read_csv(\"data/graphdata/custom_data/test_big_2.csv\")\n",
    "df = df.drop(\"Unnamed: 0\", axis=1)\n",
    "df.head()"
   ],
   "metadata": {
    "collapsed": false,
    "ExecuteTime": {
     "end_time": "2024-01-10T11:53:41.452719200Z",
     "start_time": "2024-01-10T11:53:41.395217400Z"
    }
   },
   "id": "5dc86d72e48adc2c"
  },
  {
   "cell_type": "code",
   "execution_count": 42,
   "outputs": [
    {
     "data": {
      "text/plain": "(array([[0.53, 1.23, 0.14, ..., 0.48, 1.2 , 0.25],\n        [0.53, 1.24, 0.14, ..., 0.48, 1.2 , 0.25],\n        [0.53, 1.23, 0.14, ..., 0.48, 1.2 , 0.25],\n        ...,\n        [0.59, 0.95, 0.24, ..., 0.58, 0.96, 0.37],\n        [0.59, 0.95, 0.24, ..., 0.58, 0.96, 0.37],\n        [0.59, 0.95, 0.24, ..., 0.57, 0.96, 0.37]]),\n array([[1, 0, 0, 0, 0, 0],\n        [1, 0, 0, 0, 0, 0],\n        [1, 0, 0, 0, 0, 0],\n        ...,\n        [0, 0, 0, 0, 0, 1],\n        [0, 0, 0, 0, 0, 1],\n        [0, 0, 0, 0, 0, 1]]))"
     },
     "execution_count": 42,
     "metadata": {},
     "output_type": "execute_result"
    }
   ],
   "source": [
    "data_numpy = df_to_numpy(df)\n",
    "data_numpy"
   ],
   "metadata": {
    "collapsed": false,
    "ExecuteTime": {
     "end_time": "2024-01-10T11:53:44.114290800Z",
     "start_time": "2024-01-10T11:53:42.869721300Z"
    }
   },
   "id": "fb706685cd099b17"
  },
  {
   "cell_type": "code",
   "execution_count": 43,
   "outputs": [
    {
     "name": "stdout",
     "output_type": "stream",
     "text": [
      "[INFO] TESTING ON 4160 DATAPOINTS\n"
     ]
    }
   ],
   "source": [
    "test_set_2 = HandPoseDatasetNumpy(data_numpy, distances=True)\n",
    "test_loader_2 = DataLoader(test_set_2, batch_size=CFG.batch_size, drop_last=True)\n",
    "graph = aagcn.Graph(adj_mat.num_node, adj_mat.self_link, adj_mat.inward, adj_mat.outward, adj_mat.neighbor)\n",
    "model_2 = aagcn.Model(num_class=CFG.num_classes, num_point=21, num_person=1, graph=graph, drop_out=0.5, in_channels=3)\n",
    "print(f\"[INFO] TESTING ON {len(test_set_2)} DATAPOINTS\")"
   ],
   "metadata": {
    "collapsed": false,
    "ExecuteTime": {
     "end_time": "2024-01-10T11:53:44.164301800Z",
     "start_time": "2024-01-10T11:53:44.117292300Z"
    }
   },
   "id": "4a4df190e95bacf7"
  },
  {
   "cell_type": "code",
   "execution_count": 44,
   "outputs": [],
   "source": [
    "class FocalLoss(nn.Module):\n",
    "    \n",
    "    def __init__(self, weight=None, \n",
    "                 gamma=2., reduction='mean'):\n",
    "        nn.Module.__init__(self)\n",
    "        self.weight = weight\n",
    "        self.gamma = gamma\n",
    "        self.reduction = reduction\n",
    "        \n",
    "    def forward(self, input_tensor, target_tensor):\n",
    "        log_prob = F.log_softmax(input_tensor, dim=-1)\n",
    "        prob = torch.exp(log_prob)\n",
    "        return F.nll_loss(\n",
    "            ((1 - prob) ** self.gamma) * log_prob, \n",
    "            target_tensor, \n",
    "            weight=self.weight,\n",
    "            reduction = self.reduction\n",
    "        )"
   ],
   "metadata": {
    "collapsed": false,
    "ExecuteTime": {
     "end_time": "2024-01-10T11:53:44.179306400Z",
     "start_time": "2024-01-10T11:53:44.164301800Z"
    }
   },
   "id": "c1bd5dc3b9da4ebd"
  },
  {
   "cell_type": "code",
   "execution_count": 45,
   "outputs": [],
   "source": [
    "def eval_func(model, criterion, data_loader, epoch):\n",
    "    model.eval()\n",
    "    preds = []\n",
    "    groundtruth = []\n",
    "    t0 = time.time()\n",
    "    loss_total = 0\n",
    "    global_step = 0\n",
    "    iters = len(data_loader)\n",
    "    with torch.no_grad():\n",
    "        for i, (inputs, labels) in enumerate(data_loader):\n",
    "            labels = labels.cuda().long()\n",
    "            inputs = inputs.cuda().float()\n",
    "\n",
    "            last_label = labels[:, -1, :]\n",
    "            last_label = torch.argmax(last_label, 1)\n",
    "\n",
    "            last_out = model(inputs)\n",
    "            loss = criterion(last_out, last_label)\n",
    "\n",
    "            preds.append(last_out.cpu().detach().numpy())\n",
    "            groundtruth.append(last_label.cpu().detach().numpy())\n",
    "            loss_total += loss\n",
    "\n",
    "            if i%CFG.print_freq == 1 or i == iters-1:\n",
    "                t1 = time.time()\n",
    "                print(f\"[EVAL] Iteration: {i}/{iters} | Val-Loss: {loss_total/i} | ETA: {((t1-t0)/i * iters) - (t1-t0)}s\")\n",
    "\n",
    "    return loss_total, np.array(preds),  np.array(groundtruth).flatten()"
   ],
   "metadata": {
    "collapsed": false,
    "ExecuteTime": {
     "end_time": "2024-01-10T11:53:44.221822500Z",
     "start_time": "2024-01-10T11:53:44.182307900Z"
    }
   },
   "id": "63fa15a32217baac"
  },
  {
   "cell_type": "code",
   "execution_count": 49,
   "outputs": [],
   "source": [
    "MODEL_PATH_2 = \"trained_models/7_AAGCN_Focal_seqlen32_release_SAM_joints1_joints2_oridist/f10.8142688679245284_valloss310.2437744140625_epoch13.pth\"\n",
    "\n",
    "#MODEL_PATH_2 = \"fine_tuned_models_occluded_hand_detection/7AAGCN_seqlen32_finetuned_SAM_joints1_joints2_/f10.3802083333333333_valloss29.320728302001953_epoch3.pth\"\n"
   ],
   "metadata": {
    "collapsed": false,
    "ExecuteTime": {
     "end_time": "2024-01-10T11:54:09.396960200Z",
     "start_time": "2024-01-10T11:54:09.368951600Z"
    }
   },
   "id": "dd19df308ef59f70"
  },
  {
   "cell_type": "code",
   "execution_count": 50,
   "outputs": [],
   "source": [
    "model_2.load_state_dict(torch.load(MODEL_PATH_2)[\"model_state_dict\"])\n",
    "model_2.cuda()\n",
    "\n",
    "criterion = FocalLoss()"
   ],
   "metadata": {
    "collapsed": false,
    "ExecuteTime": {
     "end_time": "2024-01-10T11:54:10.855682500Z",
     "start_time": "2024-01-10T11:54:10.639604100Z"
    }
   },
   "id": "e99ef6d824e079a7"
  },
  {
   "cell_type": "code",
   "execution_count": 51,
   "outputs": [
    {
     "name": "stdout",
     "output_type": "stream",
     "text": [
      "[EVAL] Iteration: 1/260 | Val-Loss: 2.315990924835205 | ETA: 64.76926612854004s\n",
      "[EVAL] Iteration: 101/260 | Val-Loss: 1.319405436515808 | ETA: 5.703596060818963s\n",
      "[EVAL] Iteration: 201/260 | Val-Loss: 1.3154160976409912 | ETA: 2.020185350778684s\n",
      "[EVAL] Iteration: 259/260 | Val-Loss: 1.7616090774536133 | ETA: 0.03384550105650952s\n",
      "[EVAL] VALIDATION LOSS MODEL 2 456.25677490234375\n",
      "              precision    recall  f1-score   support\n",
      "\n",
      "       Grasp     0.4000    0.1833    0.2514       993\n",
      "        Move     0.4286    0.3998    0.4137      1088\n",
      "    Negative     0.2107    1.0000    0.3480       288\n",
      "    Position     0.2781    0.2917    0.2847       576\n",
      "       Reach     0.2025    0.2250    0.2132       640\n",
      "     Release     0.0000    0.0000    0.0000       575\n",
      "\n",
      "    accuracy                         0.2925      4160\n",
      "   macro avg     0.2533    0.3500    0.2518      4160\n",
      "weighted avg     0.2918    0.2925    0.2645      4160\n"
     ]
    }
   ],
   "source": [
    "val_loss_2, preds_val_2, gt_val_2 = eval_func(model_2, criterion, test_loader_2, 0)\n",
    "print(f\"[EVAL] VALIDATION LOSS MODEL 2 {val_loss_2}\")\n",
    "print(classification_report(gt_val_2, np.argmax(preds_val_2, axis=2).flatten(), target_names=CFG.classes, digits=4))\n"
   ],
   "metadata": {
    "collapsed": false,
    "ExecuteTime": {
     "end_time": "2024-01-10T11:54:20.430461700Z",
     "start_time": "2024-01-10T11:54:11.639966Z"
    }
   },
   "id": "4ab1fc908b0ab2"
  },
  {
   "cell_type": "code",
   "execution_count": 48,
   "outputs": [],
   "source": [],
   "metadata": {
    "collapsed": false,
    "ExecuteTime": {
     "end_time": "2024-01-10T11:53:53.144681800Z",
     "start_time": "2024-01-10T11:53:53.130455400Z"
    }
   },
   "id": "8ec23ee780dfcacc"
  },
  {
   "cell_type": "code",
   "execution_count": null,
   "outputs": [],
   "source": [],
   "metadata": {
    "collapsed": false
   },
   "id": "c7fe2e34095a5cae"
  }
 ],
 "metadata": {
  "kernelspec": {
   "display_name": "Python 3",
   "language": "python",
   "name": "python3"
  },
  "language_info": {
   "codemirror_mode": {
    "name": "ipython",
    "version": 2
   },
   "file_extension": ".py",
   "mimetype": "text/x-python",
   "name": "python",
   "nbconvert_exporter": "python",
   "pygments_lexer": "ipython2",
   "version": "2.7.6"
  }
 },
 "nbformat": 4,
 "nbformat_minor": 5
}
